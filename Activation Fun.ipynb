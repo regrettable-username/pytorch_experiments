{
 "cells": [
  {
   "cell_type": "code",
   "execution_count": 68,
   "metadata": {},
   "outputs": [],
   "source": [
    "import torch\n",
    "import torchvision.models as models"
   ]
  },
  {
   "cell_type": "code",
   "execution_count": 69,
   "metadata": {},
   "outputs": [],
   "source": [
    "from pathlib import Path\n",
    "from IPython.core.debugger import set_trace\n",
    "from fastai import datasets\n",
    "import pickle, gzip, math, torch, matplotlib as mpl\n",
    "import matplotlib.pyplot as plt\n",
    "import torch.utils.data\n",
    "import torch.nn.functional as F\n",
    "import torch.nn as nn\n",
    "import numpy as np\n",
    "MNIST_URL='http://deeplearning.net/data/mnist/mnist.pkl'"
   ]
  },
  {
   "cell_type": "code",
   "execution_count": 70,
   "metadata": {},
   "outputs": [
    {
     "data": {
      "text/plain": [
       "PosixPath('/home/j/.fastai/data/mnist.pkl.gz')"
      ]
     },
     "execution_count": 70,
     "metadata": {},
     "output_type": "execute_result"
    }
   ],
   "source": [
    "path = datasets.download_data(MNIST_URL, ext='.gz'); path"
   ]
  },
  {
   "cell_type": "code",
   "execution_count": 71,
   "metadata": {},
   "outputs": [],
   "source": [
    "with gzip.open(path, 'rb') as f:\n",
    "    ((x_train, y_train), (x_valid, y_valid), _) = pickle.load(f, encoding='latin-1')"
   ]
  },
  {
   "cell_type": "code",
   "execution_count": 72,
   "metadata": {
    "scrolled": false
   },
   "outputs": [
    {
     "name": "stdout",
     "output_type": "stream",
     "text": [
      "tensor(0.1304)\n",
      "tensor(0.3073)\n"
     ]
    }
   ],
   "source": [
    "x_train,y_train,x_valid,y_valid = map(torch.tensor, (x_train,y_train,x_valid,y_valid))\n",
    "x_activation_set = x_train.clone()[:24960, :]\n",
    "\n",
    "train_mean, train_std = x_train.mean(),x_train.std()\n",
    "print(train_mean)\n",
    "print(train_std)"
   ]
  },
  {
   "cell_type": "code",
   "execution_count": 73,
   "metadata": {},
   "outputs": [],
   "source": [
    "def normalize(x, mean, std):\n",
    "    return (x - mean) / std"
   ]
  },
  {
   "cell_type": "code",
   "execution_count": 74,
   "metadata": {},
   "outputs": [],
   "source": [
    "x_train = normalize(x_train, train_mean, train_std)\n",
    "x_valid = normalize(x_valid, train_mean, train_std)\n",
    "x_activation_set = normalize(x_activation_set, train_mean, train_std)"
   ]
  },
  {
   "cell_type": "code",
   "execution_count": 75,
   "metadata": {},
   "outputs": [
    {
     "name": "stdout",
     "output_type": "stream",
     "text": [
      "train mean: -2.319086888746824e-06 std: 1.0\n",
      "x_valid mean: -0.005850538145750761 std: 0.9924333095550537\n",
      "x_activation_set mean: 0.003006055485457182 std: 1.0038951635360718\n"
     ]
    }
   ],
   "source": [
    "print(f'train mean: {x_train.mean()} std: {x_train.std()}')\n",
    "print(f'x_valid mean: {x_valid.mean()} std: {x_valid.std()}')\n",
    "print(f'x_activation_set mean: {x_activation_set.mean()} std: {x_activation_set.std()}')"
   ]
  },
  {
   "cell_type": "code",
   "execution_count": 76,
   "metadata": {},
   "outputs": [],
   "source": [
    "mpl.rcParams['image.cmap'] = 'gray'"
   ]
  },
  {
   "cell_type": "code",
   "execution_count": 77,
   "metadata": {},
   "outputs": [],
   "source": [
    "img = x_train[0]"
   ]
  },
  {
   "cell_type": "code",
   "execution_count": 78,
   "metadata": {},
   "outputs": [
    {
     "data": {
      "text/plain": [
       "'torch.FloatTensor'"
      ]
     },
     "execution_count": 78,
     "metadata": {},
     "output_type": "execute_result"
    }
   ],
   "source": [
    "img.view(28,28).type()"
   ]
  },
  {
   "cell_type": "code",
   "execution_count": 79,
   "metadata": {
    "scrolled": true
   },
   "outputs": [
    {
     "data": {
      "image/png": "[encoded data removed]",
      "text/plain": [
       "<Figure size 432x288 with 1 Axes>"
      ]
     },
     "metadata": {
      "needs_background": "light"
     },
     "output_type": "display_data"
    }
   ],
   "source": [
    "plt.imshow(img.view((28,28)));"
   ]
  },
  {
   "cell_type": "code",
   "execution_count": 80,
   "metadata": {
    "scrolled": true
   },
   "outputs": [
    {
     "name": "stdout",
     "output_type": "stream",
     "text": [
      "5\n"
     ]
    }
   ],
   "source": [
    "print(y_train[0].item())"
   ]
  },
  {
   "cell_type": "code",
   "execution_count": 102,
   "metadata": {},
   "outputs": [],
   "source": [
    "class ELUNet(torch.nn.Module):\n",
    "    def __init__(self):\n",
    "        super(ELUNet, self).__init__()\n",
    "        self.fc1 = torch.nn.Linear(784, 128)\n",
    "        self.fc2 = torch.nn.Linear(128, 128)\n",
    "        self.fc3 = torch.nn.Linear(128, 128)\n",
    "        self.fc4 = torch.nn.Linear(128, 128)\n",
    "        self.fc5 = torch.nn.Linear(128, 128)\n",
    "        self.fc6 = torch.nn.Linear(128, 128)\n",
    "        self.fc7 = torch.nn.Linear(128, 128)\n",
    "        self.fc8 = torch.nn.Linear(128, 10)\n",
    "        self.activation_fn = F.elu\n",
    "\n",
    "    def forward(self, x):\n",
    "        x = F.elu(self.fc1(x))\n",
    "        x = F.elu(self.fc2(x))\n",
    "        x = F.elu(self.fc3(x))\n",
    "        x = F.elu(self.fc4(x))\n",
    "        x = F.elu(self.fc5(x))\n",
    "        x = F.elu(self.fc6(x))\n",
    "        x = F.elu(self.fc7(x))\n",
    "        x = self.fc8(x)\n",
    "\n",
    "        return F.log_softmax(x, dim=1)\n",
    "\n",
    "class RELUNet(torch.nn.Module):\n",
    "    def __init__(self):\n",
    "        super(RELUNet, self).__init__()\n",
    "        self.fc1 = torch.nn.Linear(784, 128)\n",
    "        self.fc2 = torch.nn.Linear(128, 128)\n",
    "        self.fc3 = torch.nn.Linear(128, 128)\n",
    "        self.fc4 = torch.nn.Linear(128, 128)\n",
    "        self.fc5 = torch.nn.Linear(128, 128)\n",
    "        self.fc6 = torch.nn.Linear(128, 128)\n",
    "        self.fc7 = torch.nn.Linear(128, 128)\n",
    "        self.fc8 = torch.nn.Linear(128, 10)\n",
    "        self.activation_fn = F.relu\n",
    "        \n",
    "    def forward(self, x):\n",
    "        x = F.relu(self.fc1(x))\n",
    "        x = F.relu(self.fc2(x))\n",
    "        x = F.relu(self.fc3(x))\n",
    "        x = F.relu(self.fc4(x))\n",
    "        x = F.relu(self.fc5(x))\n",
    "        x = F.relu(self.fc6(x))\n",
    "        x = F.relu(self.fc7(x))\n",
    "        x = self.fc8(x)\n",
    "        return F.log_softmax(x, dim=1)\n",
    "    \n",
    "class LeakyRELUNet(torch.nn.Module):\n",
    "    def __init__(self):\n",
    "        super(LeakyRELUNet, self).__init__()\n",
    "        self.fc1 = torch.nn.Linear(784, 128)\n",
    "        self.fc2 = torch.nn.Linear(128, 128)\n",
    "        self.fc3 = torch.nn.Linear(128, 128)\n",
    "        self.fc4 = torch.nn.Linear(128, 128)\n",
    "        self.fc5 = torch.nn.Linear(128, 128)\n",
    "        self.fc6 = torch.nn.Linear(128, 128)\n",
    "        self.fc7 = torch.nn.Linear(128, 128)\n",
    "        self.fc8 = torch.nn.Linear(128, 10)\n",
    "        self.activation_fn = F.leaky_relu\n",
    "        \n",
    "    def forward(self, x):\n",
    "        x = F.leaky_relu(self.fc1(x), negative_slope=0.1)\n",
    "        x = F.leaky_relu(self.fc2(x), negative_slope=0.1)\n",
    "        x = F.leaky_relu(self.fc3(x), negative_slope=0.1)\n",
    "        x = F.leaky_relu(self.fc4(x), negative_slope=0.1)\n",
    "        x = F.leaky_relu(self.fc5(x), negative_slope=0.1)\n",
    "        x = F.leaky_relu(self.fc6(x), negative_slope=0.1)\n",
    "        x = F.leaky_relu(self.fc7(x), negative_slope=0.1)\n",
    "        x = self.fc8(x)\n",
    "        return F.log_softmax(x, dim=1)\n",
    "    \n",
    "class BiasedRELUNet(torch.nn.Module):\n",
    "    @staticmethod\n",
    "    def biased_relu(x): \n",
    "        return x.clamp_min(0.) - 0.5\n",
    "    \n",
    "    def __init__(self):\n",
    "        super(BiasedRELUNet, self).__init__()\n",
    "        self.fc1 = torch.nn.Linear(784, 128)\n",
    "        self.fc2 = torch.nn.Linear(128, 128)\n",
    "        self.fc3 = torch.nn.Linear(128, 128)\n",
    "        self.fc4 = torch.nn.Linear(128, 128)\n",
    "        self.fc5 = torch.nn.Linear(128, 128)\n",
    "        self.fc6 = torch.nn.Linear(128, 128)\n",
    "        self.fc7 = torch.nn.Linear(128, 128)\n",
    "        self.fc8 = torch.nn.Linear(128, 10)\n",
    "        self.activation_fn = BiasedRELUNet.biased_relu\n",
    "        \n",
    "    def forward(self, x):\n",
    "        x = BiasedRELUNet.biased_relu(self.fc1(x))\n",
    "        x = BiasedRELUNet.biased_relu(self.fc2(x))\n",
    "        x = BiasedRELUNet.biased_relu(self.fc3(x))\n",
    "        x = BiasedRELUNet.biased_relu(self.fc4(x))\n",
    "        x = BiasedRELUNet.biased_relu(self.fc5(x))\n",
    "        x = BiasedRELUNet.biased_relu(self.fc6(x))\n",
    "        x = BiasedRELUNet.biased_relu(self.fc7(x))\n",
    "        x = self.fc8(x)\n",
    "        return F.log_softmax(x, dim=1)\n",
    "    \n"
   ]
  },
  {
   "cell_type": "code",
   "execution_count": 103,
   "metadata": {},
   "outputs": [],
   "source": [
    "def train(model, device, train_loader, optimizer, epoch):\n",
    "    model.train()\n",
    "    for batch_idx, (data, target) in enumerate(train_loader):\n",
    "        data, target = data.to(device), target.to(device)\n",
    "        optimizer.zero_grad()\n",
    "        output = model(data)\n",
    "        loss = F.cross_entropy(output, target)\n",
    "        loss.backward()\n",
    "        optimizer.step()\n",
    "        if batch_idx % (len(train_loader) // 4) == 0:\n",
    "            # pulling mini-batch progress into its own string for easier formatting.\n",
    "            batch_string = (f'[{batch_idx * len(data)}/{len(train_loader.dataset)}'\n",
    "                            f'({100. * batch_idx / len(train_loader):.0f}%)]')\n",
    "                \n",
    "            print(f'Train Epoch: {epoch:<3} {batch_string:<20} Loss: {loss.item():.6f}')                                                           "
   ]
  },
  {
   "cell_type": "code",
   "execution_count": 104,
   "metadata": {},
   "outputs": [],
   "source": [
    "def total_loss(model, device, loader):\n",
    "    model.eval()\n",
    "    loss = 0\n",
    "    correct = 0\n",
    "    with torch.no_grad():\n",
    "        for data, target in loader:\n",
    "            data, target = data.to(device), target.to(device)\n",
    "            output = model(data)\n",
    "            loss += F.cross_entropy(output, target, reduction='sum').item() # sum up batch loss\n",
    "            pred = output.argmax(dim=1, keepdim=True) # get the index of the max log-probability\n",
    "            correct += pred.eq(target.view_as(pred)).sum().item()\n",
    "\n",
    "    loss /= len(loader.dataset)\n",
    "    \n",
    "    return {'loss'        : loss,\n",
    "            'num_correct' : correct}"
   ]
  },
  {
   "cell_type": "code",
   "execution_count": 105,
   "metadata": {},
   "outputs": [],
   "source": [
    "def test(model, device, test_loader, train_loader):\n",
    "    \n",
    "    test_results = total_loss(model, device, test_loader)\n",
    "    train_results = total_loss(model, device, train_loader)\n",
    "    \n",
    "    test_loss = test_results['loss']\n",
    "    test_correct = test_results['num_correct']\n",
    "\n",
    "    train_loss = train_results['loss']\n",
    "    train_correct = train_results['num_correct']\n",
    "    \n",
    "    print(f'\\nTest set: Average loss: {test_loss:.4f}, '\n",
    "          f'Accuracy: {test_correct}/{len(test_loader.dataset)} ({100. * test_correct / len(test_loader.dataset):.0f}%)\\n')\n",
    "    print(f'Train set: Average loss: {train_loss:.4f}, '\n",
    "      f'Accuracy: {train_correct}/{len(train_loader.dataset)} ({100. * train_correct / len(train_loader.dataset):.0f}%)\\n')\n",
    "    \n",
    "    return {'test_loss'  : test_loss, \n",
    "            'train_loss' : train_loss}\n"
   ]
  },
  {
   "cell_type": "code",
   "execution_count": 106,
   "metadata": {},
   "outputs": [],
   "source": [
    "def mean_activation(model, device, activation_test_loader):\n",
    "    model.eval()\n",
    "    mean_activations = 0.0\n",
    "    norm_factor = 1. / 8.\n",
    "    activations = {}\n",
    "    \n",
    "    def get_activation(name):\n",
    "        def hook(model, input, output):\n",
    "            activations[name] = output.detach()\n",
    "        \n",
    "        return hook\n",
    "    \n",
    "    with torch.no_grad():\n",
    "        # Add hooks for computing average activation.\n",
    "        fc1_handle = model.fc1.register_forward_hook(get_activation('fc1'))\n",
    "        fc2_handle = model.fc2.register_forward_hook(get_activation('fc2'))\n",
    "        fc3_handle = model.fc3.register_forward_hook(get_activation('fc3'))\n",
    "        fc4_handle = model.fc4.register_forward_hook(get_activation('fc4'))\n",
    "        fc5_handle = model.fc5.register_forward_hook(get_activation('fc5'))\n",
    "        fc6_handle = model.fc6.register_forward_hook(get_activation('fc6'))\n",
    "        fc7_handle = model.fc7.register_forward_hook(get_activation('fc7'))\n",
    "        fc8_handle = model.fc8.register_forward_hook(get_activation('fc8'))\n",
    "\n",
    "        for x in activation_test_loader:\n",
    "            data = x[0].to(device)\n",
    "\n",
    "            output = model(data)\n",
    "\n",
    "            for element in activations:    \n",
    "                #print(f\"elementShape: {activations[element].shape}\")\n",
    "                activation_fn = model.activation_fn\n",
    "\n",
    "                if activation_fn == F.leaky_relu:\n",
    "                    mean_activations += activation_fn(activations[element], negative_slope=0.1).mean().item() * norm_factor\n",
    "                else:\n",
    "                    mean_activations += activation_fn(activations[element]).mean().item() * norm_factor\n",
    "\n",
    "        mean_activations /= len(activation_test_loader)\n",
    "\n",
    "        fc1_handle.remove()\n",
    "        fc2_handle.remove()\n",
    "        fc3_handle.remove()\n",
    "        fc4_handle.remove()\n",
    "        fc5_handle.remove()\n",
    "        fc6_handle.remove()\n",
    "        fc7_handle.remove()\n",
    "        fc8_handle.remove()\n",
    "\n",
    "    print(f\"mean activation: {mean_activations:.4f}\")\n",
    "        \n",
    "    return mean_activations"
   ]
  },
  {
   "cell_type": "code",
   "execution_count": 107,
   "metadata": {},
   "outputs": [],
   "source": [
    "def init_weights(m):\n",
    "    if type(m) == torch.nn.Linear:\n",
    "        torch.nn.init.kaiming_normal_(m.weight, mode='fan_in', nonlinearity='relu')"
   ]
  },
  {
   "cell_type": "code",
   "execution_count": 108,
   "metadata": {},
   "outputs": [],
   "source": [
    "train_dataset = torch.utils.data.TensorDataset(x_train, y_train)\n",
    "test_dataset = torch.utils.data.TensorDataset(x_valid, y_valid)\n",
    "activation_test_dataset = torch.utils.data.TensorDataset(x_activation_set)"
   ]
  },
  {
   "cell_type": "code",
   "execution_count": 109,
   "metadata": {},
   "outputs": [
    {
     "data": {
      "text/plain": [
       "25088"
      ]
     },
     "execution_count": 109,
     "metadata": {},
     "output_type": "execute_result"
    }
   ],
   "source": [
    "98 * 256"
   ]
  },
  {
   "cell_type": "code",
   "execution_count": 134,
   "metadata": {},
   "outputs": [
    {
     "name": "stdout",
     "output_type": "stream",
     "text": [
      "Before - mean: 4.421262929099612e-05, std: 0.020606495440006256\n",
      "Before - mean: -0.00017039463273249567, std: 0.05113699287176132\n",
      "Before - mean: -0.0006515454151667655, std: 0.05086797848343849\n",
      "Before - mean: 0.0003819070116151124, std: 0.051259368658065796\n",
      "Before - mean: -0.0003702500252984464, std: 0.05098085105419159\n",
      "Before - mean: -0.00011002244718838483, std: 0.05091703683137894\n",
      "Before - mean: -0.00017100712284445763, std: 0.05093710124492645\n",
      "Before - mean: -4.990950765204616e-05, std: 0.0516427718102932\n",
      "-----------------------------------------------------------------------------\n",
      "After - mean: -3.820666461251676e-05, std: 0.050436556339263916\n",
      "After - mean: -0.0017552259378135204, std: 0.12501567602157593\n",
      "After - mean: 0.00023908735602162778, std: 0.12458109855651855\n",
      "After - mean: 0.0003903487231582403, std: 0.12537115812301636\n",
      "After - mean: -0.0005305547965690494, std: 0.12493725121021271\n",
      "After - mean: 0.0015680694486945868, std: 0.12606129050254822\n",
      "After - mean: -0.0021257216576486826, std: 0.1244535818696022\n",
      "After - mean: 0.00431952066719532, std: 0.12619906663894653\n",
      "total stdev = 0.9270557165145874\n"
     ]
    }
   ],
   "source": [
    "t_model = None\n",
    "t_model = RELUNet()\n",
    "\n",
    "for params in t_model.parameters():\n",
    "    if params.data.dim() == 2:\n",
    "        print(f'Before - mean: {params.mean()}, std: {params.std()}')\n",
    "\n",
    "\n",
    "t_model = t_model.apply(init_weights)\n",
    "print('-----------------------------------------------------------------------------')\n",
    "\n",
    "total_std = 0\n",
    "for params in t_model.parameters():\n",
    "    if params.data.dim() == 2:\n",
    "        total_std += params.std()\n",
    "        print(f'After - mean: {params.mean()}, std: {params.std()}')\n",
    "#         print(params)\n",
    "\n",
    "print(f'total stdev = {total_std}')"
   ]
  },
  {
   "cell_type": "code",
   "execution_count": null,
   "metadata": {
    "scrolled": true
   },
   "outputs": [],
   "source": [
    "test_results = []\n",
    "\n",
    "for test_idx in range(0, 5):\n",
    "    use_cuda = torch.cuda.is_available()\n",
    "    device = torch.device(\"cuda\" if use_cuda else \"cpu\")\n",
    "\n",
    "    kwargs = {'num_workers': 1, 'pin_memory': True} if use_cuda else {}\n",
    "\n",
    "    train_loader = torch.utils.data.DataLoader(train_dataset,batch_size=64,shuffle=True,**kwargs)\n",
    "\n",
    "    test_loader = torch.utils.data.DataLoader(test_dataset, \n",
    "                                              batch_size=64, \n",
    "                                              shuffle=True, \n",
    "                                              **kwargs)\n",
    "\n",
    "    activation_test_loader = torch.utils.data.DataLoader(activation_test_dataset, \n",
    "                                                         batch_size=256, \n",
    "                                                         shuffle=False, \n",
    "                                                         **kwargs)\n",
    "    \n",
    "    models = [BiasedRELUNet(), ELUNet(), RELUNet(), LeakyRELUNet()]\n",
    "    result = []\n",
    "\n",
    "    for idx, model in enumerate(models):\n",
    "        model = model.to(device)\n",
    "        model.apply(init_weights)\n",
    "        optimizer = torch.optim.SGD(model.parameters(), lr=1e-2)\n",
    "\n",
    "        result.append({'avg_activations'       : [],\n",
    "                        'losses'                : []})\n",
    "\n",
    "        for epoch in range(1, 125 + 1):\n",
    "            train(model, device, train_loader, optimizer, epoch)\n",
    "\n",
    "            avg_activation = mean_activation(model, device, activation_test_loader)\n",
    "            losses = test(model, device, test_loader, train_loader)\n",
    "\n",
    "            result[idx]['avg_activations'].append(avg_activation)\n",
    "            result[idx]['losses'].append(losses)\n",
    "     \n",
    "    test_results.append(result)"
   ]
  },
  {
   "cell_type": "code",
   "execution_count": 273,
   "metadata": {},
   "outputs": [
    {
     "name": "stdout",
     "output_type": "stream",
     "text": [
      "[[0.318762 0.338193 0.362846 0.372901 ... 1.16976  1.170357 1.172812 1.173526]\n",
      " [0.390424 0.38889  0.389447 0.402185 ... 0.999304 1.000543 1.00233  1.003611]\n",
      " [0.140783 0.176708 0.179971 0.201974 ... 0.841593 0.843237 0.844152 0.845339]\n",
      " [0.558622 0.553893 0.577356 0.609098 ... 1.289962 1.292576 1.293001 1.29493 ]\n",
      " [0.327348 0.307543 0.304913 0.330756 ... 0.94074  0.94186  0.944009 0.945005]]\n",
      "[0.327348 0.338193 0.362846 0.372901 ... 0.999304 1.000543 1.00233  1.003611]\n",
      "[0.134446 0.122483 0.129245 0.131977 ... 0.161153 0.161381 0.161248 0.161419]\n"
     ]
    }
   ],
   "source": [
    "results_mat = np.array([results[0]['avg_activations'], \n",
    "                       results2[0]['avg_activations'], \n",
    "                       results3[0]['avg_activations'],\n",
    "                       results4[0]['avg_activations'],\n",
    "                       results5[0]['avg_activations']])\n",
    "print(results_mat)\n",
    "print(np.median(results_mat, axis=0))\n",
    "print(results_mat.std(0))"
   ]
  },
  {
   "cell_type": "code",
   "execution_count": 116,
   "metadata": {},
   "outputs": [],
   "source": [
    "results_matrix = np.array(test_results)"
   ]
  },
  {
   "cell_type": "code",
   "execution_count": 118,
   "metadata": {},
   "outputs": [
    {
     "data": {
      "text/plain": [
       "(5, 4)"
      ]
     },
     "execution_count": 118,
     "metadata": {},
     "output_type": "execute_result"
    }
   ],
   "source": [
    "results_matrix.shape"
   ]
  },
  {
   "cell_type": "code",
   "execution_count": 132,
   "metadata": {
    "scrolled": false
   },
   "outputs": [
    {
     "data": {
      "image/png": "[encoded data removed]",
      "text/plain": [
       "<Figure size 720x576 with 1 Axes>"
      ]
     },
     "metadata": {
      "needs_background": "light"
     },
     "output_type": "display_data"
    }
   ],
   "source": [
    "colors = ['m', 'b', 'g', 'r']\n",
    "fig, ax = plt.subplots(figsize=(10, 8))\n",
    "labels = ['shifted_relu', 'elu', 'relu', 'leaky_relu']\n",
    "\n",
    "for i, label in enumerate(labels):\n",
    "    activations_matrix = np.array([test_results[0][i]['avg_activations'], \n",
    "                            test_results[1][i]['avg_activations'], \n",
    "                            test_results[2][i]['avg_activations'],\n",
    "                            test_results[3][i]['avg_activations'],\n",
    "                            test_results[4][i]['avg_activations']])\n",
    "    \n",
    "    act_std = activations_matrix.std(0)\n",
    "    \n",
    "    y = np.median(activations_matrix, axis=0)\n",
    "    x = np.array(range(1, len(y) + 1))\n",
    "    \n",
    "    ax.plot(x, y, colors[i]+'-', label=label)\n",
    "    plt.fill_between(x, y - act_std / 2, y + act_std / 2, alpha=0.5, color=colors[i])\n",
    "    \n",
    "legend = ax.legend(loc='lower right', shadow=True, fontsize='x-large')\n",
    "plt.ylabel('avg unit-activation', fontsize='large')\n",
    "plt.xlabel('epoch', fontsize='large')\n",
    "plt.show()\n"
   ]
  },
  {
   "cell_type": "code",
   "execution_count": 135,
   "metadata": {},
   "outputs": [
    {
     "data": {
      "image/png": "[encoded data removed]",
      "text/plain": [
       "<Figure size 720x576 with 1 Axes>"
      ]
     },
     "metadata": {
      "needs_background": "light"
     },
     "output_type": "display_data"
    }
   ],
   "source": [
    "test_colors = ['m', 'b', 'g', 'r']\n",
    "train_colors = ['m', 'b', 'g', 'r']\n",
    "fig, ax = plt.subplots(figsize=(10, 8))\n",
    "labels = ['shifted_relu', 'elu', 'relu', 'leaky_relu']\n",
    "\n",
    "for i, label in enumerate(labels):\n",
    "    \n",
    "    test_losses = np.array([list(map(lambda x: x['test_loss'],test_results[0][i]['losses'])),\n",
    "                           list(map(lambda x: x['test_loss'], test_results[1][i]['losses'])),\n",
    "                           list(map(lambda x: x['test_loss'], test_results[2][i]['losses'])),\n",
    "                           list(map(lambda x: x['test_loss'], test_results[3][i]['losses'])),\n",
    "                           list(map(lambda x: x['test_loss'], test_results[4][i]['losses']))])\n",
    "    \n",
    "    train_losses = np.array([list(map(lambda x: x['train_loss'],test_results[0][i]['losses'])),\n",
    "                           list(map(lambda x: x['train_loss'], test_results[1][i]['losses'])),\n",
    "                           list(map(lambda x: x['train_loss'], test_results[2][i]['losses'])),\n",
    "                           list(map(lambda x: x['train_loss'], test_results[3][i]['losses'])),\n",
    "                           list(map(lambda x: x['train_loss'], test_results[4][i]['losses']))])\n",
    "    \n",
    "    train_stdev = train_losses.std(0)\n",
    "    \n",
    "    y_test = np.mean(test_losses, axis=0)\n",
    "    y_train = np.mean(train_losses, axis=0)\n",
    "    \n",
    "    x = np.array(range(1, len(y_test) + 1))\n",
    "\n",
    "    ax.plot(x[:25], y_test[:25], test_colors[i] + '-', label=label)\n",
    "    ax.plot(x[:25], y_train[:25], train_colors[i] + '--', alpha=0.75)\n",
    "    \n",
    "#     plt.fill_between(x[:25], y_train[:25] - train_stdev[:25] / 2, y_train[:25] + train_stdev[:25] / 2, color=colors[i], alpha=.5)\n",
    "    \n",
    "legend = ax.legend(loc='best', shadow=True, fontsize='x-large')\n",
    "plt.ylabel('mean cross-entropy loss (5 runs)', fontsize='large')\n",
    "plt.xlabel('epoch', fontsize='large')\n",
    "\n",
    "plt.show()\n"
   ]
  },
  {
   "cell_type": "code",
   "execution_count": null,
   "metadata": {
    "scrolled": true
   },
   "outputs": [],
   "source": [
    "print(activation['fc1'])"
   ]
  },
  {
   "cell_type": "code",
   "execution_count": 193,
   "metadata": {
    "scrolled": true
   },
   "outputs": [
    {
     "data": {
      "text/plain": [
       "tensor([[ 0.8321, -0.4655, -0.1547,  ...,  1.0117, -0.0656,  0.0241],\n",
       "        [ 0.1219, -0.7453,  0.3095,  ...,  2.8145, -0.5336,  0.4464],\n",
       "        [ 0.3887, -0.4203, -0.1030,  ...,  3.3170,  0.3581, -0.2016],\n",
       "        ...,\n",
       "        [ 1.6115, -0.4921, -0.7329,  ...,  3.9743,  0.2590,  1.5162],\n",
       "        [ 2.7953, -0.9866,  0.2274,  ...,  1.5615,  0.9475,  1.1705],\n",
       "        [ 1.8262,  0.7822, -0.1567,  ...,  3.0519,  0.4510, -0.0679]],\n",
       "       device='cuda:0')"
      ]
     },
     "execution_count": 193,
     "metadata": {},
     "output_type": "execute_result"
    }
   ],
   "source": [
    "a = F.elu(activation['fc1']);a"
   ]
  },
  {
   "cell_type": "code",
   "execution_count": 195,
   "metadata": {},
   "outputs": [
    {
     "data": {
      "text/plain": [
       "0.20978084206581116"
      ]
     },
     "execution_count": 195,
     "metadata": {},
     "output_type": "execute_result"
    }
   ],
   "source": [
    "a.mean().item()"
   ]
  },
  {
   "cell_type": "code",
   "execution_count": 199,
   "metadata": {
    "scrolled": true
   },
   "outputs": [
    {
     "name": "stdout",
     "output_type": "stream",
     "text": [
      "tensor([[ 0.8321, -0.6264, -0.1681,  ...,  1.0117, -0.0678,  0.0241],\n",
      "        [ 0.1219, -1.3675,  0.3095,  ...,  2.8145, -0.7628,  0.4464],\n",
      "        [ 0.3887, -0.5452, -0.1087,  ...,  3.3170,  0.3581, -0.2252],\n",
      "        ...,\n",
      "        [ 1.6115, -0.6775, -1.3202,  ...,  3.9743,  0.2590,  1.5162],\n",
      "        [ 2.7953, -4.3133,  0.2274,  ...,  1.5615,  0.9475,  1.1705],\n",
      "        [ 1.8262,  0.7822, -0.1704,  ...,  3.0519,  0.4510, -0.0703]],\n",
      "       device='cuda:0')\n",
      "tensor([[-0.7385, -1.2345, -1.3308,  ...,  0.2038, -2.4119,  2.0972],\n",
      "        [-1.1172, -0.9805, -0.4449,  ...,  0.0466, -3.3445,  1.9234],\n",
      "        [-0.0964, -1.8834, -1.2713,  ..., -1.6756, -0.2612,  0.4088],\n",
      "        ...,\n",
      "        [-0.2986, -1.9977, -0.5298,  ..., -0.4228, -2.8474,  0.8286],\n",
      "        [-0.9477, -1.2709, -2.7579,  ..., -2.5604, -3.3027,  0.3923],\n",
      "        [ 2.0014, -3.0230, -1.7367,  ...,  0.7687, -1.3486,  1.6613]],\n",
      "       device='cuda:0')\n",
      "tensor([[-2.5396, -1.2503,  1.5203,  ..., -0.6194,  0.3067, -0.8677],\n",
      "        [-2.8171, -1.9121,  1.6174,  ..., -1.7724,  0.0639, -0.3866],\n",
      "        [-1.2350, -2.7453,  0.5194,  ...,  0.5700,  0.9614, -2.4746],\n",
      "        ...,\n",
      "        [-1.1827, -2.4446,  2.8425,  ..., -1.6365,  0.0482, -1.1680],\n",
      "        [-2.1526, -0.9818, -0.4883,  ..., -1.7634,  2.1603,  0.1425],\n",
      "        [-2.9061, -2.1206,  0.0158,  ...,  0.2250,  0.3095, -1.4199]],\n",
      "       device='cuda:0')\n",
      "tensor([[ 1.5743,  1.6571,  2.3976,  ...,  1.1859, -0.0927, -0.2570],\n",
      "        [ 1.3575,  0.7829,  1.9041,  ...,  0.4490,  0.0512,  1.0998],\n",
      "        [ 0.9324, -0.5024,  1.8112,  ...,  1.1781,  0.9861,  0.4160],\n",
      "        ...,\n",
      "        [ 2.1999,  1.8268,  3.1578,  ...,  0.2259,  4.1399,  1.4978],\n",
      "        [-0.8865,  1.4316, -0.7505,  ...,  1.2178,  0.8566, -0.1807],\n",
      "        [ 0.9035, -0.3920,  2.7695,  ...,  0.4577, -0.0778, -1.2327]],\n",
      "       device='cuda:0')\n",
      "tensor([[-0.7689,  1.1149, -1.3356,  ..., -2.1244, -0.9990, -0.5780],\n",
      "        [ 0.2801,  0.7160, -0.9097,  ..., -1.4002, -0.0387,  0.3126],\n",
      "        [-0.0692,  0.4034,  0.3149,  ...,  0.6707,  0.0317,  1.0334],\n",
      "        ...,\n",
      "        [-0.4606, -1.0591, -0.2511,  ..., -1.9121,  1.4790,  0.3833],\n",
      "        [ 0.3317, -0.7406, -2.3853,  ..., -1.5801, -0.5166, -1.0619],\n",
      "        [-0.7802,  0.3039, -0.1910,  ..., -0.1153, -1.3146,  0.5754]],\n",
      "       device='cuda:0')\n",
      "tensor([[ 1.2568, -2.1785, -2.2907,  ..., -0.3404,  1.1705, -3.0645],\n",
      "        [ 0.8482, -2.7743, -2.9901,  ...,  0.0839,  1.2610, -3.9006],\n",
      "        [ 0.0073, -2.9742, -1.5745,  ...,  1.0323,  0.3745,  0.4438],\n",
      "        ...,\n",
      "        [ 0.3356, -1.0289, -3.4112,  ..., -0.3328,  0.9567, -1.5721],\n",
      "        [-0.5785, -0.6116, -1.4684,  ..., -0.7111,  2.8389, -2.8289],\n",
      "        [-1.1539, -2.3735, -0.6128,  ..., -0.4314, -1.1909, -3.8005]],\n",
      "       device='cuda:0')\n",
      "tensor([[-1.1144,  1.4060, -3.5975,  ...,  0.2792, -2.8621,  1.4781],\n",
      "        [-0.8831,  2.2165, -4.9366,  ...,  0.0954, -3.1309,  1.0776],\n",
      "        [-1.6284,  0.8835, -1.6583,  ..., -1.0202, -1.2776, -1.2138],\n",
      "        ...,\n",
      "        [-2.4125,  1.7566, -5.3998,  ..., -0.7849, -3.6297,  0.5163],\n",
      "        [-0.9089,  0.1663, -0.9481,  ..., -1.5016, -1.5369,  1.0939],\n",
      "        [-1.7005,  1.7994, -3.3057,  ...,  1.6039,  0.9839,  1.9047]],\n",
      "       device='cuda:0')\n",
      "tensor([[  0.2462,  -7.1882,  -0.1838,  -1.1255,  -3.8704,  -3.9044,  -4.4652,\n",
      "          -3.7675,   9.7906,   0.1166],\n",
      "        [ -0.3020,  -4.8048,   1.3376,  -1.8553,  -6.0968, -11.0162,  -6.7238,\n",
      "          -3.8287,   5.2773,  -1.5423],\n",
      "        [ -4.5563,  -6.6745,   1.0104,  -6.3776,   6.5558,  -3.1861,  -1.5878,\n",
      "          -0.8110,  -1.0509,   3.1615],\n",
      "        [  6.2282, -13.2299,  -0.8074,  -9.5024,   8.2152,  -4.8536,   0.9202,\n",
      "           1.0781,  -7.7971,   2.2333],\n",
      "        [  4.4299,  -2.1796,   1.0052,   0.8179,  -4.8303,  -3.3825,  -6.1331,\n",
      "          -3.1128,   7.7030,  -0.2286],\n",
      "        [ -3.6833,  -7.4456,  -1.3432,   0.7666,  -6.3598,  -1.1827,  -2.7395,\n",
      "          12.7036,  -1.8611,   7.4788],\n",
      "        [ -2.8689, -11.0543,   0.8142, -10.4383,  10.1899,   1.4457,  -4.6221,\n",
      "          -0.5741,   0.8942,   2.0508],\n",
      "        [ -0.9630,  -2.6324,  -1.0795,   8.8573,  -6.5353,   1.6255,  -9.3540,\n",
      "          -2.2408,   3.3258,   2.6788],\n",
      "        [ -1.1810,  -1.7987,  -3.6710,   0.7456,  -6.3343,  12.1869,  -5.2176,\n",
      "          -1.6575,   2.9934,  -1.6965],\n",
      "        [ -3.1837, -11.8389,  -0.2698,   0.1902,  -8.3945,   2.9162,  -0.2373,\n",
      "          11.5726,   2.4218,   1.2235],\n",
      "        [  2.8007,  -8.2690,  -3.3508,  -5.1585,   1.7339,  -2.4474,  10.0801,\n",
      "          -6.1660,  -5.1248,  -3.5966],\n",
      "        [ -6.8205,  -4.9507,  -0.6642,  -0.8934,  -2.2428,   1.3443,  -6.4503,\n",
      "           9.9644,  -0.8288,   4.7681],\n",
      "        [ -0.2064,  -6.3653,   5.5140,   1.0621,  -8.9136,  -9.0153,  -7.2429,\n",
      "           2.2060,   0.5620,  -1.1881],\n",
      "        [  4.5173,  -4.1300,   1.0429,  -2.4494,  -4.5500,  -4.9605,  -5.1152,\n",
      "          -9.0500,  12.5999,   0.0456],\n",
      "        [  2.4159,  -3.4468,   0.3679,  -2.9453,   0.8779,   0.8520,   7.3532,\n",
      "          -1.4260,  -2.3712,  -1.1910],\n",
      "        [ -9.5434,  -3.6536,  -0.8637,   5.2742,  -8.3424,  -7.6711, -11.8824,\n",
      "          -1.9866,   1.2686,   0.3356]], device='cuda:0')\n"
     ]
    }
   ],
   "source": [
    "for element in activation:\n",
    "    print(activation[element])"
   ]
  },
  {
   "cell_type": "code",
   "execution_count": 201,
   "metadata": {},
   "outputs": [
    {
     "name": "stdout",
     "output_type": "stream",
     "text": [
      "fc1\n",
      "fc2\n",
      "fc3\n",
      "fc4\n",
      "fc5\n",
      "fc6\n",
      "fc7\n",
      "fc8\n"
     ]
    }
   ],
   "source": [
    "for element in activation:\n",
    "    print(element)"
   ]
  },
  {
   "cell_type": "code",
   "execution_count": 202,
   "metadata": {},
   "outputs": [
    {
     "name": "stdout",
     "output_type": "stream",
     "text": [
      "8\n"
     ]
    }
   ],
   "source": [
    "print(len(activation))"
   ]
  },
  {
   "cell_type": "code",
   "execution_count": 216,
   "metadata": {},
   "outputs": [
    {
     "data": {
      "text/plain": [
       "1024"
      ]
     },
     "execution_count": 216,
     "metadata": {},
     "output_type": "execute_result"
    }
   ],
   "source": [
    "len(x_activation_set)"
   ]
  },
  {
   "cell_type": "code",
   "execution_count": null,
   "metadata": {},
   "outputs": [],
   "source": []
  }
 ],
 "metadata": {
  "kernelspec": {
   "display_name": "Python 3",
   "language": "python",
   "name": "python3"
  },
  "language_info": {
   "codemirror_mode": {
    "name": "ipython",
    "version": 3
   },
   "file_extension": ".py",
   "mimetype": "text/x-python",
   "name": "python",
   "nbconvert_exporter": "python",
   "pygments_lexer": "ipython3",
   "version": "3.6.8"
  }
 },
 "nbformat": 4,
 "nbformat_minor": 2
}
